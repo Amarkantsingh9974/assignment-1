{
 "cells": [
  {
   "cell_type": "markdown",
   "id": "fb7c7ea5",
   "metadata": {},
   "source": [
    "# What are the characteristics of the tuples? Is tuple immutable?"
   ]
  },
  {
   "cell_type": "markdown",
   "id": "e72d730c",
   "metadata": {},
   "source": [
    "tuples are ordered,heterogenous,immutable,nested\n",
    "yes the tuple is immutable beacause you cannot change its content no addition and removing of elements in its existenvce"
   ]
  },
  {
   "cell_type": "markdown",
   "id": "994d9299",
   "metadata": {},
   "source": [
    "# Q2. What are the two tuple methods in python? Give an example of each method. Give a reason why\n",
    "tuples have only two in-built methods as compared to Lists."
   ]
  },
  {
   "cell_type": "markdown",
   "id": "5ce14b7f",
   "metadata": {},
   "source": [
    "the two tuples methods in python is index and count\n",
    "count checks how many times the number is being repeated\n",
    "index checks the index of the number and the first occurance\n",
    "\n",
    "the reason of tuples have only two methods because it is immutable so the operation like addition and removing is prohibted"
   ]
  },
  {
   "cell_type": "code",
   "execution_count": 3,
   "id": "8e78f7ec",
   "metadata": {},
   "outputs": [
    {
     "name": "stdout",
     "output_type": "stream",
     "text": [
      "2\n"
     ]
    }
   ],
   "source": [
    "mytuple = (5,4,3,8,9,9)\n",
    "x = mytuple.count(9)\n",
    "print(x)  # Output: 3\n",
    " #example of count"
   ]
  },
  {
   "cell_type": "code",
   "execution_count": 4,
   "id": "733c2c5f",
   "metadata": {},
   "outputs": [
    {
     "name": "stdout",
     "output_type": "stream",
     "text": [
      "1\n"
     ]
    }
   ],
   "source": [
    "mytuple = (1, 2, 3, 2, 4, 2)\n",
    "x = mytuple.index(2)\n",
    "print(x)  # Output: 1\n",
    "#example of index"
   ]
  },
  {
   "cell_type": "markdown",
   "id": "28188f48",
   "metadata": {},
   "source": [
    "# Which collection datatypes in python do not allow duplicate items? Write a code using a set to remove\n",
    "duplicates from the given list."
   ]
  },
  {
   "cell_type": "markdown",
   "id": "327e32e9",
   "metadata": {},
   "source": [
    "set is datatypes which does not allow duplication of items  "
   ]
  },
  {
   "cell_type": "code",
   "execution_count": 6,
   "id": "deb51b0c",
   "metadata": {},
   "outputs": [
    {
     "name": "stdout",
     "output_type": "stream",
     "text": [
      "{1, 2, 3, 4}\n"
     ]
    }
   ],
   "source": [
    "mylist = [1, 1, 1, 2, 1, 3, 1, 4, 2, 1, 2, 2, 2, 3, 2, 4, 3, 1, 3, 2, 3, 3, 3, 4, 4, 1, 4, 2, 4, 3, 4, 4]\n",
    "myset = set(mylist)\n",
    "print(myset)  "
   ]
  },
  {
   "cell_type": "markdown",
   "id": "bbe020c8",
   "metadata": {},
   "source": [
    "# Q4. Explain the difference between the union() and update() methods for a set. Give an example of\n",
    "each method."
   ]
  },
  {
   "cell_type": "markdown",
   "id": "cd00608b",
   "metadata": {},
   "source": [
    "union adds the both the sets and and  print only unique elements without modifying previous sets\n",
    "\n",
    "update() method modifies the original set by adding all the elements from another set or an iterable to it."
   ]
  },
  {
   "cell_type": "code",
   "execution_count": 1,
   "id": "2689542e",
   "metadata": {},
   "outputs": [
    {
     "name": "stdout",
     "output_type": "stream",
     "text": [
      "{1, 2, 3, 4, 5}\n",
      "{1, 2, 3}\n",
      "{3, 4, 5}\n"
     ]
    }
   ],
   "source": [
    "set1 = {1, 2, 3}\n",
    "set2 = {3, 4, 5}\n",
    "set3 = set1.union(set2)\n",
    "print(set3) \n"
   ]
  },
  {
   "cell_type": "code",
   "execution_count": 2,
   "id": "0d069d4e",
   "metadata": {},
   "outputs": [
    {
     "name": "stdout",
     "output_type": "stream",
     "text": [
      "{1, 2, 3, 4, 5}\n"
     ]
    }
   ],
   "source": [
    "set1 = {1, 2, 3}\n",
    "set2 = {3, 4, 5}\n",
    "set1.update(set2)\n",
    "print(set1)  \n"
   ]
  },
  {
   "cell_type": "markdown",
   "id": "1ebe8bb4",
   "metadata": {},
   "source": [
    "# What is a dictionary? Give an example. Also, state whether a dictionary is ordered or unordered."
   ]
  },
  {
   "cell_type": "markdown",
   "id": "ed4b72f8",
   "metadata": {},
   "source": [
    "A dictionary is a data structure in Python that stores data as key-value pairs like real life dictionary and its is unodered to make it ordered use OrderDict from modules name \"collections\""
   ]
  },
  {
   "cell_type": "markdown",
   "id": "834c66a0",
   "metadata": {},
   "source": [
    "# Can we create a nested dictionary? If so, please give an example by creating a simple one-level\n",
    "nested dictionary."
   ]
  },
  {
   "cell_type": "code",
   "execution_count": 4,
   "id": "12aa6976",
   "metadata": {},
   "outputs": [],
   "source": [
    "#yes we can create a nested dictionary\n",
    "\n",
    "employee = {\n",
    "    'name': 'John',\n",
    "    'age': 30,\n",
    "    'department': {\n",
    "        'name': 'Engineering',\n",
    "        'location': 'San Francisco'\n",
    "    }\n",
    "}"
   ]
  },
  {
   "cell_type": "code",
   "execution_count": 5,
   "id": "91359966",
   "metadata": {},
   "outputs": [
    {
     "name": "stdout",
     "output_type": "stream",
     "text": [
      "San Francisco\n"
     ]
    }
   ],
   "source": [
    "print(employee['department']['location'])  "
   ]
  },
  {
   "cell_type": "markdown",
   "id": "8949aea9",
   "metadata": {},
   "source": [
    "# Using setdefault() method, create key named topics in the given dictionary and also add the value of\n",
    "the key as this list ['Python', 'Machine Learning’, 'Deep Learning']"
   ]
  },
  {
   "cell_type": "code",
   "execution_count": 9,
   "id": "b355dc6a",
   "metadata": {},
   "outputs": [
    {
     "name": "stdout",
     "output_type": "stream",
     "text": [
      "{'language': 'Python', 'course': 'Data Science Masters', 'topics': ['Python', 'Machine Learning', 'Deep Learning']}\n"
     ]
    }
   ],
   "source": [
    "dict1 = {'language': 'Python', 'course': 'Data Science Masters'}\n",
    "dict1.setdefault('topics', ['Python', 'Machine Learning', 'Deep Learning'])\n",
    "print(dict1)\n"
   ]
  },
  {
   "cell_type": "markdown",
   "id": "1d705420",
   "metadata": {},
   "source": [
    "# Q8. What are the three view objects in dictionaries? Use the three in-built methods in python to display\n",
    "these three view objects for the given dictionary.\n",
    "dict1 = {'Sport': 'Cricket' , 'Teams': ['India', 'Australia', 'England', 'South Africa', 'Sri Lanka', 'New Zealand']}"
   ]
  },
  {
   "cell_type": "code",
   "execution_count": 8,
   "id": "27b895d5",
   "metadata": {},
   "outputs": [
    {
     "name": "stdout",
     "output_type": "stream",
     "text": [
      "dict_keys(['Sport', 'Teams'])\n",
      "dict_values(['Cricket', ['India', 'Australia', 'England', 'South Africa', 'Sri Lanka', 'New Zealand']])\n",
      "dict_items([('Sport', 'Cricket'), ('Teams', ['India', 'Australia', 'England', 'South Africa', 'Sri Lanka', 'New Zealand'])])\n"
     ]
    }
   ],
   "source": [
    "dict1 = {'Sport': 'Cricket', 'Teams': ['India', 'Australia', 'England', 'South Africa', 'Sri Lanka', 'New Zealand']}\n",
    "\n",
    "# Display the keys of the dictionary\n",
    "print(dict1.keys())\n",
    "\n",
    "# Display the values of the dictionary\n",
    "print(dict1.values())\n",
    "\n",
    "# Display the key-value pairs of the dictionary\n",
    "print(dict1.items())\n"
   ]
  },
  {
   "cell_type": "code",
   "execution_count": null,
   "id": "b7665b23",
   "metadata": {},
   "outputs": [],
   "source": []
  }
 ],
 "metadata": {
  "kernelspec": {
   "display_name": "Python 3 (ipykernel)",
   "language": "python",
   "name": "python3"
  },
  "language_info": {
   "codemirror_mode": {
    "name": "ipython",
    "version": 3
   },
   "file_extension": ".py",
   "mimetype": "text/x-python",
   "name": "python",
   "nbconvert_exporter": "python",
   "pygments_lexer": "ipython3",
   "version": "3.9.12"
  }
 },
 "nbformat": 4,
 "nbformat_minor": 5
}
